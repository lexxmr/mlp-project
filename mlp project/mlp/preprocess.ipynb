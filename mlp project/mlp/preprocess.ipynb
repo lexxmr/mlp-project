{
 "cells": [
  {
   "cell_type": "code",
   "execution_count": 8,
   "metadata": {
    "collapsed": true
   },
   "outputs": [],
   "source": [
    "import re\n",
    "def preprocess(text):\n",
    "    text = re.sub(r'<br \\\\>|\\W',' ',text)\n",
    "    words = text.split()\n",
    "\n",
    "    return words"
   ]
  },
  {
   "cell_type": "code",
   "execution_count": 12,
   "metadata": {
    "collapsed": true
   },
   "outputs": [],
   "source": [
    "import numpy as np\n",
    "import tensorflow as tf\n",
    "import random\n",
    "from collections import Counter\n",
    "import os  \n",
    "path = r\"C:\\Users\\Me\\Downloads\\mlp project\\aclImdb_v1\\aclImdb\\train\\neg\" #文件夹目录  \n",
    "files= os.listdir(path) #得到文件夹下的所有文件名称  \n",
    "maxlen = 0\n",
    "documents = []\n",
    "rates = []\n",
    "vocab = []\n",
    "for file in files: #遍历文件夹    \n",
    "    f = open(path+\"/\"+file,encoding=\"utf-8\"); #打开文件  \n",
    "    iter_f = iter(f); #创建迭代器  \n",
    "    rates.append(file[-5])\n",
    "#     rates.append(file)\n",
    "    for line in iter_f: #遍历文件，一行行遍历，读取文本\n",
    "        words = preprocess(line)\n",
    "        if len(words) > maxlen:\n",
    "            maxlen = len(words)\n",
    "        for word in words:\n",
    "            if word not in vocab:\n",
    "                vocab.append(word)\n",
    "            \n",
    "        documents.append(words)\n"
   ]
  },
  {
   "cell_type": "code",
   "execution_count": null,
   "metadata": {
    "collapsed": true
   },
   "outputs": [],
   "source": []
  },
  {
   "cell_type": "code",
   "execution_count": 13,
   "metadata": {
    "collapsed": true
   },
   "outputs": [],
   "source": [
    "path = r\"C:\\Users\\Me\\Downloads\\mlp project\\aclImdb_v1\\aclImdb\\train\\pos\" #文件夹目录  \n",
    "files= os.listdir(path) #得到文件夹下的所有文件名称\n",
    "for file in files: #遍历文件夹    \n",
    "    f = open(path+\"/\"+file,encoding=\"utf-8\"); #打开文件  \n",
    "    iter_f = iter(f); #创建迭代器  \n",
    "    if file[-5] == '0':\n",
    "        rates.append(10)\n",
    "    else:\n",
    "        rates.append(file[-5])\n",
    "#     rates.append(file)\n",
    "    for line in iter_f: #遍历文件，一行行遍历，读取文本  \n",
    "        words = preprocess(line)\n",
    "        if len(words) > maxlen:\n",
    "            maxlen = len(words)        \n",
    "        for word in words:\n",
    "            if word not in vocab:\n",
    "                vocab.append(word)\n",
    "            \n",
    "        documents.append(words)\n"
   ]
  },
  {
   "cell_type": "code",
   "execution_count": 14,
   "metadata": {},
   "outputs": [
    {
     "name": "stdout",
     "output_type": "stream",
     "text": [
      "93929\n"
     ]
    }
   ],
   "source": [
    "print(len(vocab))\n",
    "with open('vocab.txt','w',encoding=\"utf-8\") as f:\n",
    "    for v in vocab:\n",
    "        f.write(v)\n",
    "        f.write('\\n')"
   ]
  },
  {
   "cell_type": "code",
   "execution_count": 15,
   "metadata": {},
   "outputs": [
    {
     "name": "stdout",
     "output_type": "stream",
     "text": [
      "[ 0  1  2  3  4  5  6  7  8  2  9 10 11 12  2 13 14 15 16  2 17 18  1 19 20\n",
      " 21 22 23 24 16 25 26 27 28 29 30 31 32 33 34  1 35 36 37 38 35 39 19 32 40\n",
      " 41 12 42 43 44 45 46 35 47 48 49 50 51 52 53 32 54 55 56 25 49 57 58 59 60\n",
      " 61 62 63 64 65  2 66 67 68  2 69 70 35 36 71 72 73 74 75 12 76 77 78 31 79\n",
      " 80 81 82 83 84 85 86 87 88 89 90 56 91 92]\n"
     ]
    }
   ],
   "source": [
    "vocab_to_int = {w: c for c, w in enumerate(vocab)}\n",
    "int_to_vocab = {c: w for c, w in enumerate(vocab)}\n",
    "int_documents = []\n",
    "for document in documents:\n",
    "#     int_document = [vocab_to_int[w] for w in document]\n",
    "    int_document = []\n",
    "    for w in document:\n",
    "        if w in vocab:\n",
    "            int_document.append(vocab_to_int[w])\n",
    "    int_documents.append(np.array(int_document).astype(np.int))\n",
    "print(int_documents[0])"
   ]
  },
  {
   "cell_type": "code",
   "execution_count": 16,
   "metadata": {
    "collapsed": true
   },
   "outputs": [],
   "source": [
    "int_documents = np.array(int_documents)\n",
    "rates = np.array(rates).astype(np.int)\n",
    "rates[rates<5] = 0\n",
    "rates[rates>5] = 1"
   ]
  },
  {
   "cell_type": "code",
   "execution_count": 25,
   "metadata": {},
   "outputs": [],
   "source": [
    "train_inputs = np.append(int_documents[:10000], int_documents[12500:22500])\n",
    "train_targets = np.append(rates[:10000], rates[12500:22500])\n",
    "valid_inputs = np.append(int_documents[10000:12500], int_documents[22500:])\n",
    "valid_targets = np.append(rates[10000:12500], rates[22500:])"
   ]
  },
  {
   "cell_type": "code",
   "execution_count": 26,
   "metadata": {
    "collapsed": true
   },
   "outputs": [],
   "source": [
    "np.savez(\"train\", inputs =train_inputs, targets =train_targets)\n",
    "np.savez(\"valid\", inputs =valid_inputs, targets =valid_targets)"
   ]
  },
  {
   "cell_type": "code",
   "execution_count": 60,
   "metadata": {
    "collapsed": true
   },
   "outputs": [],
   "source": [
    "f.close()"
   ]
  },
  {
   "cell_type": "code",
   "execution_count": 76,
   "metadata": {
    "collapsed": true
   },
   "outputs": [],
   "source": [
    "import numpy as np\n",
    "import tensorflow as tf\n",
    "import random\n",
    "from collections import Counter\n",
    "import os  \n",
    "path = r\"C:\\Users\\Me\\Downloads\\mlp project\\aclImdb_v1\\aclImdb\\test\\neg\" #文件夹目录  \n",
    "files= os.listdir(path) #得到文件夹下的所有文件名称  \n",
    "maxlen = 0\n",
    "documents = []\n",
    "rates = []\n",
    "for file in files: #遍历文件夹    \n",
    "    f = open(path+\"/\"+file,encoding=\"utf-8\"); #打开文件  \n",
    "    iter_f = iter(f); #创建迭代器  \n",
    "    rates.append(file[-5])\n",
    "#     rates.append(file)\n",
    "    for line in iter_f: #遍历文件，一行行遍历，读取文本\n",
    "        words = preprocess(line)\n",
    "        documents.append(words)\n"
   ]
  },
  {
   "cell_type": "code",
   "execution_count": 77,
   "metadata": {
    "collapsed": true
   },
   "outputs": [],
   "source": [
    "path = r\"C:\\Users\\Me\\Downloads\\mlp project\\aclImdb_v1\\aclImdb\\test\\pos\" #文件夹目录  \n",
    "files= os.listdir(path) #得到文件夹下的所有文件名称\n",
    "for file in files: #遍历文件夹    \n",
    "    f = open(path+\"/\"+file,encoding=\"utf-8\"); #打开文件  \n",
    "    iter_f = iter(f); #创建迭代器  \n",
    "    if file[-5] == '0':\n",
    "        rates.append(10)\n",
    "    else:\n",
    "        rates.append(file[-5])\n",
    "#     rates.append(file)\n",
    "    for line in iter_f: #遍历文件，一行行遍历，读取文本  \n",
    "        words = preprocess(line)\n",
    "        documents.append(words)\n"
   ]
  },
  {
   "cell_type": "code",
   "execution_count": null,
   "metadata": {},
   "outputs": [],
   "source": []
  },
  {
   "cell_type": "code",
   "execution_count": 81,
   "metadata": {
    "collapsed": true
   },
   "outputs": [],
   "source": [
    "np.savez(\"test\", inputs =int_documents, targets =rates)"
   ]
  },
  {
   "cell_type": "code",
   "execution_count": 4,
   "metadata": {
    "collapsed": true
   },
   "outputs": [],
   "source": [
    "import numpy as np\n",
    "train_data = np.load(\"train.npz\")\n",
    "valid_data = np.load(\"valid.npz\")"
   ]
  },
  {
   "cell_type": "code",
   "execution_count": 62,
   "metadata": {
    "scrolled": true
   },
   "outputs": [
    {
     "name": "stdout",
     "output_type": "stream",
     "text": [
      "20000\n",
      "5000\n"
     ]
    }
   ],
   "source": [
    "\n",
    "print(len(train_data['targets']))\n",
    "print(len(valid_data['inputs']))"
   ]
  },
  {
   "cell_type": "code",
   "execution_count": 5,
   "metadata": {},
   "outputs": [],
   "source": [
    "import data_providers as data_providers\n",
    "batch_size = 50\n",
    "train_data = data_providers.ACLIMDBDataProvider(\"train\",batch_size=batch_size)\n",
    "valid_data = data_providers.ACLIMDBDataProvider(\"valid\",batch_size=batch_size)\n"
   ]
  },
  {
   "cell_type": "code",
   "execution_count": 6,
   "metadata": {},
   "outputs": [
    {
     "name": "stdout",
     "output_type": "stream",
     "text": [
      "[[ 0.  1.]\n",
      " [ 0.  1.]\n",
      " [ 1.  0.]\n",
      " [ 1.  0.]\n",
      " [ 0.  1.]\n",
      " [ 1.  0.]\n",
      " [ 1.  0.]\n",
      " [ 0.  1.]\n",
      " [ 1.  0.]\n",
      " [ 0.  1.]\n",
      " [ 0.  1.]\n",
      " [ 0.  1.]\n",
      " [ 1.  0.]\n",
      " [ 0.  1.]\n",
      " [ 1.  0.]\n",
      " [ 0.  1.]\n",
      " [ 1.  0.]\n",
      " [ 1.  0.]\n",
      " [ 1.  0.]\n",
      " [ 0.  1.]\n",
      " [ 0.  1.]\n",
      " [ 0.  1.]\n",
      " [ 0.  1.]\n",
      " [ 0.  1.]\n",
      " [ 1.  0.]\n",
      " [ 1.  0.]\n",
      " [ 0.  1.]\n",
      " [ 1.  0.]\n",
      " [ 1.  0.]\n",
      " [ 1.  0.]\n",
      " [ 0.  1.]\n",
      " [ 0.  1.]\n",
      " [ 1.  0.]\n",
      " [ 1.  0.]\n",
      " [ 1.  0.]\n",
      " [ 1.  0.]\n",
      " [ 0.  1.]\n",
      " [ 1.  0.]\n",
      " [ 1.  0.]\n",
      " [ 1.  0.]\n",
      " [ 1.  0.]\n",
      " [ 0.  1.]\n",
      " [ 0.  1.]\n",
      " [ 1.  0.]\n",
      " [ 0.  1.]\n",
      " [ 0.  1.]\n",
      " [ 1.  0.]\n",
      " [ 1.  0.]\n",
      " [ 0.  1.]\n",
      " [ 0.  1.]]\n"
     ]
    }
   ],
   "source": []
  },
  {
   "cell_type": "code",
   "execution_count": 43,
   "metadata": {},
   "outputs": [
    {
     "data": {
      "text/plain": [
       "2525"
      ]
     },
     "execution_count": 43,
     "metadata": {},
     "output_type": "execute_result"
    }
   ],
   "source": [
    "maxlen"
   ]
  },
  {
   "cell_type": "code",
   "execution_count": null,
   "metadata": {
    "collapsed": true
   },
   "outputs": [],
   "source": []
  },
  {
   "cell_type": "code",
   "execution_count": null,
   "metadata": {
    "collapsed": true
   },
   "outputs": [],
   "source": []
  }
 ],
 "metadata": {
  "kernelspec": {
   "display_name": "Python 3",
   "language": "python",
   "name": "python3"
  },
  "language_info": {
   "codemirror_mode": {
    "name": "ipython",
    "version": 3
   },
   "file_extension": ".py",
   "mimetype": "text/x-python",
   "name": "python",
   "nbconvert_exporter": "python",
   "pygments_lexer": "ipython3",
   "version": "3.6.3"
  }
 },
 "nbformat": 4,
 "nbformat_minor": 2
}
