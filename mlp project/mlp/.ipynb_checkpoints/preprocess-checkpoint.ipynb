{
 "cells": [
  {
   "cell_type": "code",
   "execution_count": 3,
   "metadata": {},
   "outputs": [],
   "source": [
    "import numpy as np\n",
    "import tensorflow as tf\n",
    "import random\n",
    "from collections import Counter\n",
    "import os  \n",
    "path = r\"C:\\Users\\Me\\Downloads\\mlp project\\aclImdb_v1\\aclImdb\\train\\neg\" #文件夹目录  \n",
    "files= os.listdir(path) #得到文件夹下的所有文件名称  \n",
    "documents = []\n",
    "rates = []\n",
    "vocab = []\n",
    "for file in files: #遍历文件夹    \n",
    "    f = open(path+\"/\"+file,encoding=\"utf-8\"); #打开文件  \n",
    "    iter_f = iter(f); #创建迭代器  \n",
    "    rates.append(file[-5])\n",
    "#     rates.append(file)\n",
    "    for line in iter_f: #遍历文件，一行行遍历，读取文本\n",
    "        words = preprocess(line)\n",
    "        for word in words:\n",
    "            if word not in vocab:\n",
    "                vocab.append(word)\n",
    "            \n",
    "        documents.append(words)\n"
   ]
  },
  {
   "cell_type": "code",
   "execution_count": 2,
   "metadata": {
    "collapsed": true
   },
   "outputs": [],
   "source": [
    "import re\n",
    "def preprocess(text):\n",
    "    text = re.sub(r'<br \\\\>|\\W',' ',text)\n",
    "    words = text.split()\n",
    "\n",
    "    return words"
   ]
  },
  {
   "cell_type": "code",
   "execution_count": 4,
   "metadata": {},
   "outputs": [],
   "source": [
    "path = r\"C:\\Users\\Me\\Downloads\\mlp project\\aclImdb_v1\\aclImdb\\train\\pos\" #文件夹目录  \n",
    "files= os.listdir(path) #得到文件夹下的所有文件名称  \n",
    "for file in files: #遍历文件夹    \n",
    "    f = open(path+\"/\"+file,encoding=\"utf-8\"); #打开文件  \n",
    "    iter_f = iter(f); #创建迭代器  \n",
    "    if file[-5] == 0:\n",
    "        rates.append(10)\n",
    "    else:\n",
    "        rates.append(file[-5])\n",
    "#     rates.append(file)\n",
    "    for line in iter_f: #遍历文件，一行行遍历，读取文本  \n",
    "        words = preprocess(line)\n",
    "        for word in words:\n",
    "            if word not in vocab:\n",
    "                vocab.append(word)\n",
    "            \n",
    "        documents.append(words)\n"
   ]
  },
  {
   "cell_type": "code",
   "execution_count": 16,
   "metadata": {},
   "outputs": [
    {
     "name": "stdout",
     "output_type": "stream",
     "text": [
      "93929\n"
     ]
    }
   ],
   "source": [
    "print(len(vocab))\n",
    "with open('vocab.txt','w',encoding=\"utf-8\") as f:\n",
    "    for v in vocab:\n",
    "        f.write(v)\n",
    "        f.write('\\n')"
   ]
  },
  {
   "cell_type": "code",
   "execution_count": 19,
   "metadata": {},
   "outputs": [
    {
     "name": "stdout",
     "output_type": "stream",
     "text": [
      "[0, 1, 2, 3, 4, 5, 6, 7, 8, 2, 9, 10, 11, 12, 2, 13, 14, 15, 16, 2, 17, 18, 1, 19, 20, 21, 22, 23, 24, 16, 25, 26, 27, 28, 29, 30, 31, 32, 33, 34, 1, 35, 36, 37, 38, 35, 39, 19, 32, 40, 41, 12, 42, 43, 44, 45, 46, 35, 47, 48, 49, 50, 51, 52, 53, 32, 54, 55, 56, 25, 49, 57, 58, 59, 60, 61, 62, 63, 64, 65, 2, 66, 67, 68, 2, 69, 70, 35, 36, 71, 72, 73, 74, 75, 12, 76, 77, 78, 31, 79, 80, 81, 82, 83, 84, 85, 86, 87, 88, 89, 90, 56, 91, 92]\n"
     ]
    }
   ],
   "source": [
    "vocab_to_int = {w: c for c, w in enumerate(vocab)}\n",
    "int_to_vocab = {c: w for c, w in enumerate(vocab)}\n",
    "int_documents = []\n",
    "for document in documents:\n",
    "    int_document = [vocab_to_int[w] for w in document]\n",
    "    int_documents.append(int_document)\n",
    "print(int_documents[0])"
   ]
  },
  {
   "cell_type": "code",
   "execution_count": 20,
   "metadata": {
    "collapsed": true
   },
   "outputs": [],
   "source": [
    "int_documents = np.array(int_documents)\n",
    "rates = np.array(rates)"
   ]
  },
  {
   "cell_type": "code",
   "execution_count": 88,
   "metadata": {},
   "outputs": [],
   "source": [
    "#shuffle\n",
    "rng_state = np.random.get_state()\n",
    "np.random.shuffle(documents)\n",
    "np.random.set_state(rng_state)\n",
    "np.random.shuffle(rates)"
   ]
  },
  {
   "cell_type": "code",
   "execution_count": 21,
   "metadata": {},
   "outputs": [],
   "source": [
    "np.savez(\"train\",inputs =int_documents, targets =rates)"
   ]
  },
  {
   "cell_type": "code",
   "execution_count": 22,
   "metadata": {},
   "outputs": [],
   "source": [
    "f.close()"
   ]
  },
  {
   "cell_type": "code",
   "execution_count": 4,
   "metadata": {},
   "outputs": [],
   "source": [
    "import numpy as np\n",
    "data = np.load(\"train.npz\")"
   ]
  },
  {
   "cell_type": "code",
   "execution_count": 5,
   "metadata": {
    "scrolled": true
   },
   "outputs": [
    {
     "name": "stdout",
     "output_type": "stream",
     "text": [
      "['inputs', 'targets']\n",
      "25000\n",
      "25000\n"
     ]
    }
   ],
   "source": [
    "print(data.files)\n",
    "print(len(data['targets']))\n",
    "print(len(data['inputs']))"
   ]
  },
  {
   "cell_type": "code",
   "execution_count": 1,
   "metadata": {},
   "outputs": [
    {
     "ename": "ValueError",
     "evalue": "setting an array element with a sequence.",
     "output_type": "error",
     "traceback": [
      "\u001b[1;31m---------------------------------------------------------------------------\u001b[0m",
      "\u001b[1;31mValueError\u001b[0m                                Traceback (most recent call last)",
      "\u001b[1;32m<ipython-input-1-3022681cd36d>\u001b[0m in \u001b[0;36m<module>\u001b[1;34m()\u001b[0m\n\u001b[0;32m      1\u001b[0m \u001b[1;32mfrom\u001b[0m \u001b[0mdata_providers\u001b[0m \u001b[1;32mimport\u001b[0m \u001b[0mACLDataProvider\u001b[0m\u001b[1;33m\u001b[0m\u001b[0m\n\u001b[1;32m----> 2\u001b[1;33m \u001b[0mtrain_data\u001b[0m \u001b[1;33m=\u001b[0m \u001b[0mACLDataProvider\u001b[0m\u001b[1;33m(\u001b[0m\u001b[1;33m)\u001b[0m\u001b[1;33m\u001b[0m\u001b[0m\n\u001b[0m",
      "\u001b[1;32m~\\Downloads\\mlp project\\mlp\\data_providers.py\u001b[0m in \u001b[0;36m__init__\u001b[1;34m(self, which_set, batch_size, max_num_batches, shuffle_order, rng)\u001b[0m\n\u001b[0;32m    440\u001b[0m         \u001b[0mloaded\u001b[0m \u001b[1;33m=\u001b[0m \u001b[0mnp\u001b[0m\u001b[1;33m.\u001b[0m\u001b[0mload\u001b[0m\u001b[1;33m(\u001b[0m\u001b[0mdata_path\u001b[0m\u001b[1;33m)\u001b[0m\u001b[1;33m\u001b[0m\u001b[0m\n\u001b[0;32m    441\u001b[0m         \u001b[0minputs\u001b[0m\u001b[1;33m,\u001b[0m \u001b[0mtargets\u001b[0m \u001b[1;33m=\u001b[0m \u001b[0mloaded\u001b[0m\u001b[1;33m[\u001b[0m\u001b[1;34m'inputs'\u001b[0m\u001b[1;33m]\u001b[0m\u001b[1;33m,\u001b[0m \u001b[0mloaded\u001b[0m\u001b[1;33m[\u001b[0m\u001b[1;34m'targets'\u001b[0m\u001b[1;33m]\u001b[0m\u001b[1;33m\u001b[0m\u001b[0m\n\u001b[1;32m--> 442\u001b[1;33m         \u001b[0minputs\u001b[0m \u001b[1;33m=\u001b[0m \u001b[0minputs\u001b[0m\u001b[1;33m.\u001b[0m\u001b[0mastype\u001b[0m\u001b[1;33m(\u001b[0m\u001b[0mnp\u001b[0m\u001b[1;33m.\u001b[0m\u001b[0mfloat32\u001b[0m\u001b[1;33m)\u001b[0m\u001b[1;33m\u001b[0m\u001b[0m\n\u001b[0m\u001b[0;32m    443\u001b[0m         \u001b[1;31m# pass the loaded data to the parent class __init__\u001b[0m\u001b[1;33m\u001b[0m\u001b[1;33m\u001b[0m\u001b[0m\n\u001b[0;32m    444\u001b[0m         super(MNISTDataProvider, self).__init__(\n",
      "\u001b[1;31mValueError\u001b[0m: setting an array element with a sequence."
     ]
    }
   ],
   "source": [
    "from data_providers import ACLDataProvider\n",
    "train_data = ACLDataProvider()"
   ]
  },
  {
   "cell_type": "code",
   "execution_count": 7,
   "metadata": {},
   "outputs": [
    {
     "ename": "AttributeError",
     "evalue": "'list' object has no attribute 'astype'",
     "output_type": "error",
     "traceback": [
      "\u001b[1;31m---------------------------------------------------------------------------\u001b[0m",
      "\u001b[1;31mAttributeError\u001b[0m                            Traceback (most recent call last)",
      "\u001b[1;32m<ipython-input-7-3360dc917bae>\u001b[0m in \u001b[0;36m<module>\u001b[1;34m()\u001b[0m\n\u001b[1;32m----> 1\u001b[1;33m \u001b[0mdata\u001b[0m\u001b[1;33m[\u001b[0m\u001b[1;34m'inputs'\u001b[0m\u001b[1;33m]\u001b[0m\u001b[1;33m[\u001b[0m\u001b[1;36m0\u001b[0m\u001b[1;33m]\u001b[0m\u001b[1;33m.\u001b[0m\u001b[0mastype\u001b[0m\u001b[1;33m(\u001b[0m\u001b[0mnp\u001b[0m\u001b[1;33m.\u001b[0m\u001b[0mfloat32\u001b[0m\u001b[1;33m)\u001b[0m\u001b[1;33m\u001b[0m\u001b[0m\n\u001b[0m",
      "\u001b[1;31mAttributeError\u001b[0m: 'list' object has no attribute 'astype'"
     ]
    }
   ],
   "source": [
    "data['inputs'][0].astype(np.float32)"
   ]
  },
  {
   "cell_type": "code",
   "execution_count": null,
   "metadata": {
    "collapsed": true
   },
   "outputs": [],
   "source": []
  }
 ],
 "metadata": {
  "kernelspec": {
   "display_name": "Python 3",
   "language": "python",
   "name": "python3"
  }
 },
 "nbformat": 4,
 "nbformat_minor": 2
}
